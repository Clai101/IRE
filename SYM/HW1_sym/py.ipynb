{
 "cells": [
  {
   "cell_type": "code",
   "execution_count": 15,
   "metadata": {},
   "outputs": [],
   "source": [
    "import numpy as np\n",
    "import sympy as sy\n",
    "from copy import copy\n",
    "from numpy import array, sin, cos, abs, pi, arccos"
   ]
  },
  {
   "cell_type": "code",
   "execution_count": 16,
   "metadata": {},
   "outputs": [],
   "source": [
    "class Group:\n",
    "    G = array([None]*24)\n",
    "    G_m1 = array([None]*24)\n",
    "    G_braid = array([None]*24)\n",
    "    l = 0; num = 0\n",
    "    Kelli = array([[None]*24]*24)\n",
    "    obj = array([0, 1, 2, 3])\n",
    "    conj_calls = []\n",
    "    deff = lambda x: x\n",
    "    def __init__(self, deff, name, imp = True):\n",
    "        self.deff = deff\n",
    "        self.name = name\n",
    "        self.num = Group.l\n",
    "        Group.G[Group.l] = self\n",
    "        Group.G_braid[Group.l] = str(self.deff(self.obj))\n",
    "        if imp:\n",
    "            Group.l += 1\n",
    "    def __mul__(self, a):\n",
    "        if str(a.deff(self.deff(self.obj))) in Group.G_braid:\n",
    "            return Group.G[Group.G_braid == str(a.deff(self.deff(self.obj)))][0]\n",
    "        else:\n",
    "            return Group(lambda x: a.deff(self.deff(x)), f\"{self.name}*{a.name}\")\n",
    "    def conj_class():\n",
    "        M = [set((Group.G * j) * Group.G_m1) for j in Group.G]; M_set = []\n",
    "        for i in range(24):\n",
    "            M_set.append(M[i]) if not M[i] in M_set else int(0) \n",
    "            print(*array(list(M[i])))\n",
    "            Group.G[i].conj_calls = array(M[i])\n",
    "        return array(M_set)\n",
    "    def __str__(self) -> str:\n",
    "        return (str(self.deff(self.obj))[1:-1]).replace(' ', '')\n",
    "    def fill_skips():\n",
    "        [[0 if i == None or j == None else i*j for j in Group.G]for i in Group.G]\n",
    "    def Kelli():\n",
    "        K = array([[(i*j).num for j in Group.G]for i in Group.G])\n",
    "        Group.G_m1 = np.array([Group.G[i[1]] for i in np.argwhere(K == 0)])\n",
    "        return K"
   ]
  },
  {
   "cell_type": "code",
   "execution_count": 17,
   "metadata": {},
   "outputs": [],
   "source": [
    "e = Group(lambda x: array([x[0], x[1], x[2], x[3]]), 'e')\n",
    "\n",
    "C_01_2 = Group(lambda x: array([x[1], x[0], x[3], x[2]]), r\"C^{01}_2\")\n",
    "C_02_2 = Group(lambda x: array([x[2], x[3], x[0], x[1]]), r\"C^{02}_2\")\n",
    "C_03_2 = Group(lambda x: array([x[3], x[2], x[1], x[0]]), r\"C^{03}_2\")\n",
    "\n",
    "C_10_3 = Group(lambda x: array([x[0], x[2], x[3], x[1]]), r\"C^{10}_3\")\n",
    "C_20_3 = Group(lambda x: array([x[0], x[3], x[1], x[2]]), r\"C^{20}_3\")\n",
    "C_11_3 = Group(lambda x: array([x[2], x[1], x[3], x[0]]), r\"C^{11}_3\")\n",
    "C_21_3 = Group(lambda x: array([x[3], x[1], x[0], x[2]]), r\"C^{21}_3\")\n",
    "C_12_3 = Group(lambda x: array([x[1], x[3], x[2], x[0]]), r\"C^{12}_3\")\n",
    "C_22_3 = Group(lambda x: array([x[3], x[0], x[2], x[1]]), r\"C^{22}_3\")\n",
    "C_13_3 = Group(lambda x: array([x[1], x[2], x[0], x[3]]), r\"C^{13}_3\")\n",
    "C_23_3 = Group(lambda x: array([x[2], x[0], x[1], x[3]]), r\"C^{23}_3\")\n",
    "\n",
    "s_01 = Group(lambda x: array([x[0], x[1], x[3], x[2]]), r\"s^{01}\")\n",
    "s_02 = Group(lambda x: array([x[0], x[3], x[2], x[1]]), r\"s^{02}\")\n",
    "s_03 = Group(lambda x: array([x[0], x[2], x[1], x[3]]), r\"s^{03}\")\n",
    "s_12 = Group(lambda x: array([x[3], x[1], x[2], x[0]]), r\"s^{12}\")\n",
    "s_13 = Group(lambda x: array([x[2], x[1], x[0], x[3]]), r\"s^{13}\")\n",
    "s_23 = Group(lambda x: array([x[1], x[0], x[2], x[3]]), r\"s^{23}\")"
   ]
  },
  {
   "cell_type": "code",
   "execution_count": 18,
   "metadata": {},
   "outputs": [
    {
     "name": "stdout",
     "output_type": "stream",
     "text": [
      "1320\n"
     ]
    }
   ],
   "source": [
    "print(C_03_2*C_23_3)"
   ]
  },
  {
   "cell_type": "code",
   "execution_count": 19,
   "metadata": {},
   "outputs": [
    {
     "name": "stdout",
     "output_type": "stream",
     "text": [
      "['[0 1 2 3]' '[1 0 3 2]' '[2 3 0 1]' '[3 2 1 0]' '[0 2 3 1]' '[0 3 1 2]'\n",
      " '[2 1 3 0]' '[3 1 0 2]' '[1 3 2 0]' '[3 0 2 1]' '[1 2 0 3]' '[2 0 1 3]'\n",
      " '[0 1 3 2]' '[0 3 2 1]' '[0 2 1 3]' '[3 1 2 0]' '[2 1 0 3]' '[1 0 2 3]'\n",
      " None None None None None None]\n"
     ]
    }
   ],
   "source": [
    "print(Group.G_braid)"
   ]
  },
  {
   "cell_type": "code",
   "execution_count": 20,
   "metadata": {},
   "outputs": [
    {
     "name": "stdout",
     "output_type": "stream",
     "text": [
      "0123, 1032, 2301, 3210, 0231, 0312, 2130, 3102, 1320, 3021, 1203, 2013, 0132, 0321, 0213, 3120, 2103, 1023, 1230, 1302, 2031, 3012, 2310, 3201\n"
     ]
    }
   ],
   "source": [
    "Group.fill_skips()\n",
    "print(* Group.G, sep = ', ')"
   ]
  },
  {
   "cell_type": "code",
   "execution_count": 21,
   "metadata": {},
   "outputs": [],
   "source": [
    "K = Group.Kelli()\n",
    "np.savetxt(\"su/kelli.csv\", K[1:])"
   ]
  },
  {
   "cell_type": "code",
   "execution_count": 22,
   "metadata": {},
   "outputs": [
    {
     "name": "stdout",
     "output_type": "stream",
     "text": [
      "0123, 0123, 0123, 0123, 0123, 0123, 0123, 0123, 0123, 0123, 0123, 0123, 0123, 0123, 0123, 0123, 0123, 0123, 0123, 0123, 0123, 0123, 0123, 0123\n"
     ]
    }
   ],
   "source": [
    "print(* (Group.G * Group.G_m1), sep = ', ')"
   ]
  },
  {
   "cell_type": "code",
   "execution_count": 23,
   "metadata": {},
   "outputs": [
    {
     "name": "stdout",
     "output_type": "stream",
     "text": [
      "0123\n",
      "1032 3210 2301\n",
      "2301 3210 1032\n",
      "3210 2301 1032\n",
      "3102 0231 1203 0312 1320 2130 3021 2013\n",
      "0231 1203 3102 0312 1320 3021 2130 2013\n",
      "3102 1203 0231 0312 1320 3021 2130 2013\n",
      "3102 0231 1203 0312 1320 3021 2130 2013\n",
      "1203 3102 0231 0312 1320 2130 3021 2013\n",
      "1203 3102 0231 0312 1320 2130 3021 2013\n",
      "1203 3102 0231 0312 1320 2130 3021 2013\n",
      "3102 0231 1203 0312 1320 2130 3021 2013\n",
      "2103 0132 3120 1023 0213 0321\n",
      "0321 0132 3120 1023 0213 2103\n",
      "2103 0321 3120 1023 0213 0132\n",
      "0321 3120 0132 1023 0213 2103\n",
      "2103 0321 3120 1023 0213 0132\n",
      "0321 3120 0132 1023 0213 2103\n",
      "3201 2310 2031 1302 1230 3012\n",
      "3201 2031 1302 1230 2310 3012\n",
      "3201 2031 3012 1302 2310 1230\n",
      "3201 2310 2031 1302 1230 3012\n",
      "3201 2031 1302 1230 2310 3012\n",
      "3201 2310 2031 1302 1230 3012\n",
      "________________________________________________\n",
      "0123\n",
      "1032, 3210, 2301\n",
      "3102, 0231, 1203, 0312, 1320, 2130, 3021, 2013\n",
      "2103, 0132, 3120, 1023, 0213, 0321\n",
      "3201, 2310, 2031, 1302, 1230, 3012\n"
     ]
    }
   ],
   "source": [
    "cc = Group.conj_class()\n",
    "print(\"________________________________________________\")\n",
    "for c in cc:\n",
    "    print(*c, sep=\", \")"
   ]
  },
  {
   "cell_type": "code",
   "execution_count": 29,
   "metadata": {},
   "outputs": [
    {
     "name": "stdout",
     "output_type": "stream",
     "text": [
      "e\n",
      "C^{01}_2, C^{03}_2, C^{02}_2\n",
      "C^{21}_3, C^{10}_3, C^{13}_3, C^{20}_3, C^{12}_3, C^{11}_3, C^{22}_3, C^{23}_3\n",
      "s^{13}, s^{01}, s^{12}, s^{23}, s^{03}, s^{02}\n",
      "C^{02}_2*s^{23}, C^{02}_2*s^{01}, C^{01}_2*s^{12}, C^{01}_2*s^{03}, C^{01}_2*s^{02}, C^{01}_2*s^{13}\n"
     ]
    }
   ],
   "source": [
    "H = cc\n",
    "for i in cc:\n",
    "    print(*list(map(lambda x: x.name, i)), sep=', ')"
   ]
  },
  {
   "cell_type": "code",
   "execution_count": 26,
   "metadata": {},
   "outputs": [],
   "source": [
    "def M(v, phi):\n",
    "    x = v[0]; y = v[1]; z = v[2]\n",
    "    np = lambda x, z, phi: (1-cos(phi))*x*y+sin(phi)*z\n",
    "    nm = lambda x, z, phi: (1-cos(phi))*x*y-sin(phi)*z\n",
    "    di = lambda x, phi: cos(phi)+(1-cos(phi))*x**2\n",
    "    return array([[di(x, phi), np(x*y, z, phi), np(x*z, y, phi)],\n",
    "                  [np(x*y, z, phi), di(y, phi), nm(y*z, x, phi)],\n",
    "                  [nm(x*z, y, phi), np(y*z, x, phi), di(z, phi)]])\n",
    "def S(v1, v2):\n",
    "    v = np.cross(v1, v2)\n",
    "    v_rot = np.cross(array([1, 0, 0]), v)\n",
    "    phi = arccos((array([1, 0, 0])@v)/(v@v))\n",
    "    return np.diag(array([-1, 1, 1]))@M(v_rot, phi)"
   ]
  },
  {
   "cell_type": "code",
   "execution_count": 27,
   "metadata": {},
   "outputs": [],
   "source": [
    "v0 = np.array([0, 0, 1])\n",
    "v1 = np.array([-1/3,])\n"
   ]
  }
 ],
 "metadata": {
  "kernelspec": {
   "display_name": "Python 3",
   "language": "python",
   "name": "python3"
  },
  "language_info": {
   "codemirror_mode": {
    "name": "ipython",
    "version": 3
   },
   "file_extension": ".py",
   "mimetype": "text/x-python",
   "name": "python",
   "nbconvert_exporter": "python",
   "pygments_lexer": "ipython3",
   "version": "3.11.6"
  },
  "orig_nbformat": 4
 },
 "nbformat": 4,
 "nbformat_minor": 2
}
